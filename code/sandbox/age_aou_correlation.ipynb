{
 "metadata": {
  "name": "",
  "signature": "sha256:e3f7958b36ce6698d92c212acc97370c59e49955878f70557dc36e965c7cbdc3"
 },
 "nbformat": 3,
 "nbformat_minor": 0,
 "worksheets": [
  {
   "cells": [
    {
     "cell_type": "heading",
     "level": 6,
     "metadata": {},
     "source": [
      "Load Packages"
     ]
    },
    {
     "cell_type": "code",
     "collapsed": false,
     "input": [
      "import iris \n",
      "import numpy as np\n",
      "import matplotlib.pyplot as plt\n",
      "import iris.analysis.stats\n",
      "import iris.quickplot as qplt\n",
      "import seaborn as sns\n",
      "import iris.analysis.cartography\n",
      "import cartopy.crs as ccrs"
     ],
     "language": "python",
     "metadata": {},
     "outputs": [],
     "prompt_number": 1
    },
    {
     "cell_type": "code",
     "collapsed": false,
     "input": [
      "import sys\n",
      "sys.path.append('/RESEARCH/paper_ocean_heat_carbon/code/python')\n",
      "import colormaps as cmaps"
     ],
     "language": "python",
     "metadata": {},
     "outputs": [],
     "prompt_number": 2
    },
    {
     "cell_type": "code",
     "collapsed": false,
     "input": [
      "%matplotlib inline"
     ],
     "language": "python",
     "metadata": {},
     "outputs": [],
     "prompt_number": 3
    },
    {
     "cell_type": "heading",
     "level": 6,
     "metadata": {},
     "source": [
      "Load Data"
     ]
    },
    {
     "cell_type": "code",
     "collapsed": false,
     "input": [
      "PATH = '/RESEARCH/chapter3/data/newCO2_control_800/'\n",
      "o2 = iris.load_cube(PATH+'o2.nc')\n",
      "o2_sat = iris.load_cube(PATH+'o2_sat.nc')\n",
      "age = iris.load_cube(PATH+'residency_age_surface.nc')\n",
      "rho = iris.load_cube(PATH+'rho.nc')"
     ],
     "language": "python",
     "metadata": {},
     "outputs": [
      {
       "output_type": "stream",
       "stream": "stderr",
       "text": [
        "/Users/jordanthomas/anaconda/lib/python2.7/site-packages/iris/fileformats/cf.py:320: UserWarning: Missing CF-netCDF auxiliary coordinate variable u'geolon_t', referenced by netCDF variable u'o2'\n",
        "  warnings.warn(message % (name, nc_var_name))\n",
        "/Users/jordanthomas/anaconda/lib/python2.7/site-packages/iris/fileformats/cf.py:320: UserWarning: Missing CF-netCDF auxiliary coordinate variable u'geolat_t', referenced by netCDF variable u'o2'\n",
        "  warnings.warn(message % (name, nc_var_name))\n",
        "/Users/jordanthomas/anaconda/lib/python2.7/site-packages/iris/fileformats/cf.py:363: UserWarning: Missing CF-netCDF boundary variable u'time_bounds', referenced by netCDF variable u'time'\n",
        "  warnings.warn(message % (name, nc_var_name))\n",
        "/Users/jordanthomas/anaconda/lib/python2.7/site-packages/iris/fileformats/cf.py:645: UserWarning: Missing CF-netCDF label variable u'geolon_t', referenced by netCDF variable u'o2'\n",
        "  warnings.warn(message % (name, nc_var_name))\n",
        "/Users/jordanthomas/anaconda/lib/python2.7/site-packages/iris/fileformats/cf.py:645: UserWarning: Missing CF-netCDF label variable u'geolat_t', referenced by netCDF variable u'o2'\n",
        "  warnings.warn(message % (name, nc_var_name))\n",
        "/Users/jordanthomas/anaconda/lib/python2.7/site-packages/iris/fileformats/cf.py:1140: IrisDeprecation: NetCDF default loading behaviour currently does not expose variables which define reference surfaces for dimensionless vertical coordinates as independent Cubes. This behaviour is deprecated in favour of automatic promotion to Cubes. To switch to the new behaviour, set iris.FUTURE.netcdf_promote to True.\n",
        "  warn_deprecated(msg)\n",
        "/Users/jordanthomas/anaconda/lib/python2.7/site-packages/iris/fileformats/cf.py:320: UserWarning: Missing CF-netCDF auxiliary coordinate variable u'geolon_t', referenced by netCDF variable u'o2_sat'\n",
        "  warnings.warn(message % (name, nc_var_name))\n"
       ]
      },
      {
       "output_type": "stream",
       "stream": "stderr",
       "text": [
        "/Users/jordanthomas/anaconda/lib/python2.7/site-packages/iris/fileformats/cf.py:320: UserWarning: Missing CF-netCDF auxiliary coordinate variable u'geolat_t', referenced by netCDF variable u'o2_sat'\n",
        "  warnings.warn(message % (name, nc_var_name))\n",
        "/Users/jordanthomas/anaconda/lib/python2.7/site-packages/iris/fileformats/cf.py:645: UserWarning: Missing CF-netCDF label variable u'geolon_t', referenced by netCDF variable u'o2_sat'\n",
        "  warnings.warn(message % (name, nc_var_name))\n",
        "/Users/jordanthomas/anaconda/lib/python2.7/site-packages/iris/fileformats/cf.py:645: UserWarning: Missing CF-netCDF label variable u'geolat_t', referenced by netCDF variable u'o2_sat'\n",
        "  warnings.warn(message % (name, nc_var_name))\n",
        "/Users/jordanthomas/anaconda/lib/python2.7/site-packages/iris/fileformats/cf.py:320: UserWarning: Missing CF-netCDF auxiliary coordinate variable u'geolon_t', referenced by netCDF variable u'residency_age_surface'\n",
        "  warnings.warn(message % (name, nc_var_name))\n"
       ]
      },
      {
       "output_type": "stream",
       "stream": "stderr",
       "text": [
        "/Users/jordanthomas/anaconda/lib/python2.7/site-packages/iris/fileformats/cf.py:320: UserWarning: Missing CF-netCDF auxiliary coordinate variable u'geolat_t', referenced by netCDF variable u'residency_age_surface'\n",
        "  warnings.warn(message % (name, nc_var_name))\n",
        "/Users/jordanthomas/anaconda/lib/python2.7/site-packages/iris/fileformats/cf.py:363: UserWarning: Missing CF-netCDF boundary variable u'Time_bounds', referenced by netCDF variable u'Time'\n",
        "  warnings.warn(message % (name, nc_var_name))\n",
        "/Users/jordanthomas/anaconda/lib/python2.7/site-packages/iris/fileformats/cf.py:645: UserWarning: Missing CF-netCDF label variable u'geolon_t', referenced by netCDF variable u'residency_age_surface'\n",
        "  warnings.warn(message % (name, nc_var_name))\n",
        "/Users/jordanthomas/anaconda/lib/python2.7/site-packages/iris/fileformats/cf.py:645: UserWarning: Missing CF-netCDF label variable u'geolat_t', referenced by netCDF variable u'residency_age_surface'\n",
        "  warnings.warn(message % (name, nc_var_name))\n",
        "/Users/jordanthomas/anaconda/lib/python2.7/site-packages/iris/fileformats/cf.py:320: UserWarning: Missing CF-netCDF auxiliary coordinate variable u'geolon_t', referenced by netCDF variable u'rho'\n",
        "  warnings.warn(message % (name, nc_var_name))\n"
       ]
      },
      {
       "output_type": "stream",
       "stream": "stderr",
       "text": [
        "/Users/jordanthomas/anaconda/lib/python2.7/site-packages/iris/fileformats/cf.py:320: UserWarning: Missing CF-netCDF auxiliary coordinate variable u'geolat_t', referenced by netCDF variable u'rho'\n",
        "  warnings.warn(message % (name, nc_var_name))\n",
        "/Users/jordanthomas/anaconda/lib/python2.7/site-packages/iris/fileformats/cf.py:645: UserWarning: Missing CF-netCDF label variable u'geolon_t', referenced by netCDF variable u'rho'\n",
        "  warnings.warn(message % (name, nc_var_name))\n",
        "/Users/jordanthomas/anaconda/lib/python2.7/site-packages/iris/fileformats/cf.py:645: UserWarning: Missing CF-netCDF label variable u'geolat_t', referenced by netCDF variable u'rho'\n",
        "  warnings.warn(message % (name, nc_var_name))\n"
       ]
      }
     ],
     "prompt_number": 4
    },
    {
     "cell_type": "heading",
     "level": 6,
     "metadata": {},
     "source": [
      "Change name of age time coordinate "
     ]
    },
    {
     "cell_type": "code",
     "collapsed": false,
     "input": [
      "age.coord('Time').rename('time')"
     ],
     "language": "python",
     "metadata": {},
     "outputs": [],
     "prompt_number": 5
    },
    {
     "cell_type": "heading",
     "level": 6,
     "metadata": {},
     "source": [
      "Length of ocean bling data is longer than ocean month. Use only last 500 years"
     ]
    },
    {
     "cell_type": "code",
     "collapsed": false,
     "input": [
      "o2 = o2[-500:]\n",
      "o2_sat = o2_sat[-500:]"
     ],
     "language": "python",
     "metadata": {},
     "outputs": [],
     "prompt_number": 6
    },
    {
     "cell_type": "heading",
     "level": 6,
     "metadata": {},
     "source": [
      "Define AOU"
     ]
    },
    {
     "cell_type": "code",
     "collapsed": false,
     "input": [
      "AOU = (o2_sat) - o2*rho\n",
      "AOU.rename('Apparent Oxygen Utilization')\n",
      "print AOU"
     ],
     "language": "python",
     "metadata": {},
     "outputs": [
      {
       "output_type": "stream",
       "stream": "stdout",
       "text": [
        "Apparent Oxygen Utilization / (mol m-3) (time: 500; tcell pstar: 28; latitude: 80; longitude: 120)\n",
        "     Dimension coordinates:\n",
        "          time                               x                 -             -              -\n",
        "          tcell pstar                        -                 x             -              -\n",
        "          latitude                           -                 -             x              -\n",
        "          longitude                          -                 -             -              x\n"
       ]
      }
     ],
     "prompt_number": 7
    },
    {
     "cell_type": "heading",
     "level": 3,
     "metadata": {},
     "source": [
      "Plot Climatologies of AOU, O2 and age"
     ]
    },
    {
     "cell_type": "code",
     "collapsed": false,
     "input": [
      "o2_clim = (o2*rho).collapsed('time', iris.analysis.MEAN)\n",
      "AOU_clim = AOU.collapsed('time', iris.analysis.MEAN)\n",
      "age_clim = age.collapsed('time', iris.analysis.MEAN)"
     ],
     "language": "python",
     "metadata": {},
     "outputs": [
      {
       "output_type": "stream",
       "stream": "stderr",
       "text": [
        "/Users/jordanthomas/anaconda/lib/python2.7/site-packages/iris/coords.py:992: UserWarning: Collapsing a non-contiguous coordinate. Metadata may not be fully descriptive for 'time'.\n",
        "  warnings.warn(msg.format(self.name()))\n"
       ]
      }
     ],
     "prompt_number": 8
    },
    {
     "cell_type": "code",
     "collapsed": false,
     "input": [
      "o2_clim.rename('Oxygen')\n",
      "o2_clim.units='mol m-3'\n",
      "clevs = np.arange(0, 0.41, 0.01)\n",
      "qplt.contourf(o2_clim[5,:,:],clevs, cmap = cmaps.viridis, extend='max')"
     ],
     "language": "python",
     "metadata": {},
     "outputs": [
      {
       "metadata": {},
       "output_type": "pyout",
       "prompt_number": 9,
       "text": [
        "<matplotlib.contour.QuadContourSet instance at 0x1116e3b48>"
       ]
      },
      {
       "metadata": {},
       "output_type": "display_data",
       "png": "[encoded data removed]",
       "text": [
        "<matplotlib.figure.Figure at 0x110128750>"
       ]
      }
     ]
    },
    {
     "cell_type": "code",
     "collapsed": false,
     "input": [
      "qplt.contourf(AOU_clim[5,:,:], clevs, cmap = cmaps.viridis, extend = 'both')"
     ],
     "language": "python",
     "metadata": {},
     "outputs": []
    },
    {
     "cell_type": "code",
     "collapsed": false,
     "input": [
      "clevs = np.arange(0, 76, 1)\n",
      "qplt.contourf(age_clim[5,:,:], clevs, cmap = cmaps.viridis, extend = 'max')"
     ],
     "language": "python",
     "metadata": {},
     "outputs": []
    },
    {
     "cell_type": "heading",
     "level": 6,
     "metadata": {},
     "source": [
      "Calculate OUR"
     ]
    },
    {
     "cell_type": "code",
     "collapsed": false,
     "input": [
      "OUR = AOU/age\n",
      "OUR.rename('Oxygen Utilization Rate')\n",
      "OUR.units='mol m-3 yr-1'\n",
      "print OUR\n",
      "OUR_clim = OUR.collapsed('time', iris.analysis.MEAN)\n",
      "clevs = np.arange(0, 0.031, 0.001)\n",
      "qplt.contourf(OUR_clim[5,:,:], clevs, cmap = cmaps.viridis, extend = 'max')"
     ],
     "language": "python",
     "metadata": {},
     "outputs": []
    },
    {
     "cell_type": "heading",
     "level": 6,
     "metadata": {},
     "source": [
      "Correlate Age with AOU"
     ]
    },
    {
     "cell_type": "code",
     "collapsed": false,
     "input": [
      "correlation = iris.analysis.stats.pearsonr(age, AOU, corr_coords='time') "
     ],
     "language": "python",
     "metadata": {},
     "outputs": []
    },
    {
     "cell_type": "heading",
     "level": 3,
     "metadata": {},
     "source": [
      "Correlation at Surface (k=5, ~60m)"
     ]
    },
    {
     "cell_type": "code",
     "collapsed": false,
     "input": [
      "plt.figure(figsize=(12,6))\n",
      "qplt.contourf(correlation[5,:,:], cmap = 'RdBu_r')"
     ],
     "language": "python",
     "metadata": {},
     "outputs": []
    },
    {
     "cell_type": "heading",
     "level": 3,
     "metadata": {},
     "source": [
      "Correlation at intermediate depth (k=10, ~140m)"
     ]
    },
    {
     "cell_type": "code",
     "collapsed": false,
     "input": [
      "plt.figure(figsize=(12,6))\n",
      "qplt.contourf(correlation[10,:,:], cmap = 'RdBu_r')"
     ],
     "language": "python",
     "metadata": {},
     "outputs": []
    },
    {
     "cell_type": "heading",
     "level": 3,
     "metadata": {},
     "source": [
      "Correlation at depth (k=20, ~2000m)"
     ]
    },
    {
     "cell_type": "code",
     "collapsed": false,
     "input": [
      "plt.figure(figsize=(12,6))\n",
      "qplt.contourf(correlation[20,:,:], cmap = 'RdBu_r')"
     ],
     "language": "python",
     "metadata": {},
     "outputs": []
    },
    {
     "cell_type": "code",
     "collapsed": false,
     "input": [],
     "language": "python",
     "metadata": {},
     "outputs": []
    }
   ],
   "metadata": {}
  }
 ]
}