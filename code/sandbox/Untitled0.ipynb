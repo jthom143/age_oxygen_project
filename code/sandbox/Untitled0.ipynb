{
 "metadata": {
  "name": "",
  "signature": "sha256:fb2709fca5f7c0dfdce16a665539b92cdbce9825b55d50307bad83c9bc22d29d"
 },
 "nbformat": 3,
 "nbformat_minor": 0,
 "worksheets": [
  {
   "cells": [
    {
     "cell_type": "heading",
     "level": 6,
     "metadata": {},
     "source": [
      "Load Packages"
     ]
    },
    {
     "cell_type": "code",
     "collapsed": false,
     "input": [
      "import iris\n",
      "import numpy as np\n",
      "import matplotlib.pyplot as plt \n",
      "import seaborn as sns\n",
      "import iris.analysis.stats\n",
      "import sys\n",
      "sys.path.append('/RESEARCH/paper_ocean_heat_carbon/code/python')\n",
      "import colormaps as cmaps"
     ],
     "language": "python",
     "metadata": {},
     "outputs": [],
     "prompt_number": 1
    },
    {
     "cell_type": "code",
     "collapsed": false,
     "input": [
      "%matplotlib inline"
     ],
     "language": "python",
     "metadata": {},
     "outputs": [],
     "prompt_number": 2
    },
    {
     "cell_type": "heading",
     "level": 6,
     "metadata": {},
     "source": [
      "Load Data"
     ]
    },
    {
     "cell_type": "code",
     "collapsed": false,
     "input": [
      "PATH = '/RESEARCH/chapter3/data/newCO2_control_800/'\n",
      "o2 = iris.load_cube(PATH+'o2.nc')\n",
      "o2 = o2[-500:]\n",
      "\n",
      "age = iris.load_cube(PATH+'residency_age_surface.nc')\n",
      "age.coord('Time').rename('time')\n",
      "\n",
      "sigma0 = iris.load_cube(PATH+'/derived/sigma0.nc')"
     ],
     "language": "python",
     "metadata": {},
     "outputs": [],
     "prompt_number": 4
    },
    {
     "cell_type": "heading",
     "level": 6,
     "metadata": {},
     "source": [
      "Calculate Correlation"
     ]
    },
    {
     "cell_type": "code",
     "collapsed": false,
     "input": [
      "correlation = iris.analysis.stats.pearsonr(age, o2, corr_coords='time') "
     ],
     "language": "python",
     "metadata": {},
     "outputs": [
      {
       "output_type": "stream",
       "stream": "stderr",
       "text": [
        "/Users/jordanthomas/anaconda/lib/python2.7/site-packages/iris/coords.py:992: UserWarning: Collapsing a non-contiguous coordinate. Metadata may not be fully descriptive for 'time'.\n",
        "  warnings.warn(msg.format(self.name()))\n"
       ]
      }
     ],
     "prompt_number": 5
    },
    {
     "cell_type": "heading",
     "level": 6,
     "metadata": {},
     "source": [
      "Plot Age, Oxygen, and Correlation Along 150W "
     ]
    },
    {
     "cell_type": "code",
     "collapsed": false,
     "input": [
      "sigma0_clim = sigma0.collapsed('time', iris.analysis.MEAN)"
     ],
     "language": "python",
     "metadata": {},
     "outputs": [
      {
       "output_type": "stream",
       "stream": "stderr",
       "text": [
        "/Users/jordanthomas/anaconda/lib/python2.7/site-packages/iris/coords.py:992: UserWarning: Collapsing a non-contiguous coordinate. Metadata may not be fully descriptive for u'time'.\n",
        "  warnings.warn(msg.format(self.name()))\n"
       ]
      }
     ],
     "prompt_number": 7
    },
    {
     "cell_type": "code",
     "collapsed": false,
     "input": [
      "age_clim = age.collapsed('time', iris.analysis.MEAN)"
     ],
     "language": "python",
     "metadata": {},
     "outputs": [],
     "prompt_number": 8
    },
    {
     "cell_type": "code",
     "collapsed": false,
     "input": [
      "print age[:,:,:,44].coord('longitude').points"
     ],
     "language": "python",
     "metadata": {},
     "outputs": [
      {
       "output_type": "stream",
       "stream": "stdout",
       "text": [
        "[-151.5]\n"
       ]
      }
     ],
     "prompt_number": 9
    },
    {
     "cell_type": "code",
     "collapsed": false,
     "input": [
      "lats = age.coord('latitude').points\n",
      "depth = age.coord('tcell pstar').points"
     ],
     "language": "python",
     "metadata": {},
     "outputs": [],
     "prompt_number": 17
    },
    {
     "cell_type": "code",
     "collapsed": false,
     "input": [
      "plt.figure(figsize = (10,5))\n",
      "ax = plt.gca()\n",
      "plt.contourf(lats, depth, age_clim[:,:,44].data, cmap = cmaps.viridis)\n",
      "cb = plt.colorbar()\n",
      "CS = plt.contour(lats, depth, sigma0_clim[:,:,44].data, colors='k', levels=[26, 27.2])\n",
      "plt.clabel(CS, fontsize=9, inline=1)\n",
      "ax.invert_yaxis()\n",
      "cb.set_label('yrs', fontsize = 14)\n",
      "plt.ylabel('Depth [m]', fontsize = 14)\n",
      "plt.xlabel('Latitude', fontsize = 14)\n",
      "plt.title('Model Line 150W - Age', fontsize = 14)"
     ],
     "language": "python",
     "metadata": {},
     "outputs": [
      {
       "metadata": {},
       "output_type": "pyout",
       "prompt_number": 18,
       "text": [
        "<matplotlib.text.Text at 0x130d50e10>"
       ]
      },
      {
       "output_type": "stream",
       "stream": "stderr",
       "text": [
        "/Users/jordanthomas/anaconda/lib/python2.7/site-packages/matplotlib/text.py:52: UnicodeWarning: Unicode equal comparison failed to convert both arguments to Unicode - interpreting them as being unequal\n",
        "  if rotation in ('horizontal', None):\n",
        "/Users/jordanthomas/anaconda/lib/python2.7/site-packages/matplotlib/text.py:54: UnicodeWarning: Unicode equal comparison failed to convert both arguments to Unicode - interpreting them as being unequal\n",
        "  elif rotation == 'vertical':\n"
       ]
      },
      {
       "metadata": {},
       "output_type": "display_data",
       "png": "[encoded data removed]",
       "text": [
        "<matplotlib.figure.Figure at 0x130b9ef10>"
       ]
      }
     ],
     "prompt_number": 18
    },
    {
     "cell_type": "code",
     "collapsed": false,
     "input": [],
     "language": "python",
     "metadata": {},
     "outputs": [
      {
       "output_type": "stream",
       "stream": "stdout",
       "text": [
        "[[-- 26.541426367094893 26.753659289800673 ..., 24.95368083072264\n",
        "  25.020446385107082 25.07696800894494]\n",
        " [-- 26.67218465492347 26.810691135747014 ..., 25.228874430571803\n",
        "  25.306890030708082 25.387317776189487]\n",
        " [-- 26.767140210808957 26.901822821125123 ..., 25.417199801418466\n",
        "  25.49157133801867 25.574771886776468]\n",
        " ..., \n",
        " [-- -- -- ..., -- -- --]\n",
        " [-- -- -- ..., -- -- --]\n",
        " [-- -- -- ..., -- -- --]]\n"
       ]
      }
     ],
     "prompt_number": 16
    },
    {
     "cell_type": "code",
     "collapsed": false,
     "input": [],
     "language": "python",
     "metadata": {},
     "outputs": []
    }
   ],
   "metadata": {}
  }
 ]
}