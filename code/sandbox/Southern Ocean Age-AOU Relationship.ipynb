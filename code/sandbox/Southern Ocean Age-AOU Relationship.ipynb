{
 "metadata": {
  "name": "",
  "signature": "sha256:73604700669360fb14815f1ccdc19ba8b729755ad7f2d652188ad883d45cb3c6"
 },
 "nbformat": 3,
 "nbformat_minor": 0,
 "worksheets": [
  {
   "cells": [
    {
     "cell_type": "heading",
     "level": 6,
     "metadata": {},
     "source": [
      "Load Packages"
     ]
    },
    {
     "cell_type": "code",
     "collapsed": false,
     "input": [
      "import iris \n",
      "import numpy as np\n",
      "import matplotlib.pyplot as plt\n",
      "import iris.analysis.stats\n",
      "import iris.quickplot as qplt\n",
      "import seaborn as sns\n",
      "import iris.analysis.cartography\n",
      "import cartopy.crs as ccrs\n",
      "from scipy.interpolate import griddata\n",
      "import numpy.ma as ma\n",
      "from scipy import stats"
     ],
     "language": "python",
     "metadata": {},
     "outputs": [],
     "prompt_number": 1
    },
    {
     "cell_type": "code",
     "collapsed": false,
     "input": [
      "import sys\n",
      "sys.path.append('/RESEARCH/paper_ocean_heat_carbon/code/python')\n",
      "import colormaps as cmaps"
     ],
     "language": "python",
     "metadata": {},
     "outputs": [],
     "prompt_number": 2
    },
    {
     "cell_type": "code",
     "collapsed": false,
     "input": [
      "%matplotlib inline"
     ],
     "language": "python",
     "metadata": {},
     "outputs": [],
     "prompt_number": 3
    },
    {
     "cell_type": "heading",
     "level": 6,
     "metadata": {},
     "source": [
      "Load Data"
     ]
    },
    {
     "cell_type": "code",
     "collapsed": false,
     "input": [
      "PATH = '/RESEARCH/chapter3/data/newCO2_control_800/'\n",
      "o2 = iris.load_cube(PATH+'o2.nc')\n",
      "o2_sat = iris.load_cube(PATH+'o2_sat.nc')\n",
      "age = iris.load_cube(PATH+'residency_age_surface.nc')\n",
      "sigma0 = iris.load_cube(PATH+'/derived/sigma0.nc')\n",
      "rho = iris.load_cube(PATH+'rho.nc')"
     ],
     "language": "python",
     "metadata": {},
     "outputs": [
      {
       "output_type": "stream",
       "stream": "stderr",
       "text": [
        "/Users/jordanthomas/anaconda/lib/python2.7/site-packages/iris/fileformats/cf.py:320: UserWarning: Missing CF-netCDF auxiliary coordinate variable u'geolon_t', referenced by netCDF variable u'o2'\n",
        "  warnings.warn(message % (name, nc_var_name))\n",
        "/Users/jordanthomas/anaconda/lib/python2.7/site-packages/iris/fileformats/cf.py:320: UserWarning: Missing CF-netCDF auxiliary coordinate variable u'geolat_t', referenced by netCDF variable u'o2'\n",
        "  warnings.warn(message % (name, nc_var_name))\n",
        "/Users/jordanthomas/anaconda/lib/python2.7/site-packages/iris/fileformats/cf.py:363: UserWarning: Missing CF-netCDF boundary variable u'time_bounds', referenced by netCDF variable u'time'\n",
        "  warnings.warn(message % (name, nc_var_name))\n",
        "/Users/jordanthomas/anaconda/lib/python2.7/site-packages/iris/fileformats/cf.py:645: UserWarning: Missing CF-netCDF label variable u'geolon_t', referenced by netCDF variable u'o2'\n",
        "  warnings.warn(message % (name, nc_var_name))\n",
        "/Users/jordanthomas/anaconda/lib/python2.7/site-packages/iris/fileformats/cf.py:645: UserWarning: Missing CF-netCDF label variable u'geolat_t', referenced by netCDF variable u'o2'\n",
        "  warnings.warn(message % (name, nc_var_name))\n",
        "/Users/jordanthomas/anaconda/lib/python2.7/site-packages/iris/fileformats/cf.py:1140: IrisDeprecation: NetCDF default loading behaviour currently does not expose variables which define reference surfaces for dimensionless vertical coordinates as independent Cubes. This behaviour is deprecated in favour of automatic promotion to Cubes. To switch to the new behaviour, set iris.FUTURE.netcdf_promote to True.\n",
        "  warn_deprecated(msg)\n",
        "/Users/jordanthomas/anaconda/lib/python2.7/site-packages/iris/fileformats/cf.py:320: UserWarning: Missing CF-netCDF auxiliary coordinate variable u'geolon_t', referenced by netCDF variable u'o2_sat'\n",
        "  warnings.warn(message % (name, nc_var_name))\n"
       ]
      },
      {
       "output_type": "stream",
       "stream": "stderr",
       "text": [
        "/Users/jordanthomas/anaconda/lib/python2.7/site-packages/iris/fileformats/cf.py:320: UserWarning: Missing CF-netCDF auxiliary coordinate variable u'geolat_t', referenced by netCDF variable u'o2_sat'\n",
        "  warnings.warn(message % (name, nc_var_name))\n",
        "/Users/jordanthomas/anaconda/lib/python2.7/site-packages/iris/fileformats/cf.py:645: UserWarning: Missing CF-netCDF label variable u'geolon_t', referenced by netCDF variable u'o2_sat'\n",
        "  warnings.warn(message % (name, nc_var_name))\n",
        "/Users/jordanthomas/anaconda/lib/python2.7/site-packages/iris/fileformats/cf.py:645: UserWarning: Missing CF-netCDF label variable u'geolat_t', referenced by netCDF variable u'o2_sat'\n",
        "  warnings.warn(message % (name, nc_var_name))\n",
        "/Users/jordanthomas/anaconda/lib/python2.7/site-packages/iris/fileformats/cf.py:320: UserWarning: Missing CF-netCDF auxiliary coordinate variable u'geolon_t', referenced by netCDF variable u'residency_age_surface'\n",
        "  warnings.warn(message % (name, nc_var_name))\n"
       ]
      },
      {
       "output_type": "stream",
       "stream": "stderr",
       "text": [
        "/Users/jordanthomas/anaconda/lib/python2.7/site-packages/iris/fileformats/cf.py:320: UserWarning: Missing CF-netCDF auxiliary coordinate variable u'geolat_t', referenced by netCDF variable u'residency_age_surface'\n",
        "  warnings.warn(message % (name, nc_var_name))\n",
        "/Users/jordanthomas/anaconda/lib/python2.7/site-packages/iris/fileformats/cf.py:363: UserWarning: Missing CF-netCDF boundary variable u'Time_bounds', referenced by netCDF variable u'Time'\n",
        "  warnings.warn(message % (name, nc_var_name))\n",
        "/Users/jordanthomas/anaconda/lib/python2.7/site-packages/iris/fileformats/cf.py:645: UserWarning: Missing CF-netCDF label variable u'geolon_t', referenced by netCDF variable u'residency_age_surface'\n",
        "  warnings.warn(message % (name, nc_var_name))\n",
        "/Users/jordanthomas/anaconda/lib/python2.7/site-packages/iris/fileformats/cf.py:645: UserWarning: Missing CF-netCDF label variable u'geolat_t', referenced by netCDF variable u'residency_age_surface'\n",
        "  warnings.warn(message % (name, nc_var_name))\n",
        "/Users/jordanthomas/anaconda/lib/python2.7/site-packages/iris/fileformats/cf.py:320: UserWarning: Missing CF-netCDF auxiliary coordinate variable u'geolon_t', referenced by netCDF variable u'rho'\n",
        "  warnings.warn(message % (name, nc_var_name))\n"
       ]
      },
      {
       "output_type": "stream",
       "stream": "stderr",
       "text": [
        "/Users/jordanthomas/anaconda/lib/python2.7/site-packages/iris/fileformats/cf.py:320: UserWarning: Missing CF-netCDF auxiliary coordinate variable u'geolat_t', referenced by netCDF variable u'rho'\n",
        "  warnings.warn(message % (name, nc_var_name))\n",
        "/Users/jordanthomas/anaconda/lib/python2.7/site-packages/iris/fileformats/cf.py:645: UserWarning: Missing CF-netCDF label variable u'geolon_t', referenced by netCDF variable u'rho'\n",
        "  warnings.warn(message % (name, nc_var_name))\n",
        "/Users/jordanthomas/anaconda/lib/python2.7/site-packages/iris/fileformats/cf.py:645: UserWarning: Missing CF-netCDF label variable u'geolat_t', referenced by netCDF variable u'rho'\n",
        "  warnings.warn(message % (name, nc_var_name))\n"
       ]
      }
     ],
     "prompt_number": 4
    },
    {
     "cell_type": "heading",
     "level": 6,
     "metadata": {},
     "source": [
      "Change name of age time coordinate"
     ]
    },
    {
     "cell_type": "code",
     "collapsed": false,
     "input": [
      "age.coord('Time').rename('time')"
     ],
     "language": "python",
     "metadata": {},
     "outputs": [],
     "prompt_number": 5
    },
    {
     "cell_type": "heading",
     "level": 6,
     "metadata": {},
     "source": [
      "Length of Ocean Bling Data is different from others; use only last 500 years"
     ]
    },
    {
     "cell_type": "code",
     "collapsed": false,
     "input": [
      "o2 = o2[-500:]\n",
      "o2_sat = o2_sat[-500:]"
     ],
     "language": "python",
     "metadata": {},
     "outputs": [],
     "prompt_number": 6
    },
    {
     "cell_type": "heading",
     "level": 6,
     "metadata": {},
     "source": [
      "Define AOU"
     ]
    },
    {
     "cell_type": "code",
     "collapsed": false,
     "input": [
      "AOU = (o2_sat/rho) - o2\n",
      "AOU.rename('Apparent Oxygen Utilization')\n",
      "print AOU"
     ],
     "language": "python",
     "metadata": {},
     "outputs": [
      {
       "output_type": "stream",
       "stream": "stdout",
       "text": [
        "Apparent Oxygen Utilization / (kilogram^-1-mole) (time: 500; tcell pstar: 28; latitude: 80; longitude: 120)\n",
        "     Dimension coordinates:\n",
        "          time                                        x                 -             -              -\n",
        "          tcell pstar                                 -                 x             -              -\n",
        "          latitude                                    -                 -             x              -\n",
        "          longitude                                   -                 -             -              x\n"
       ]
      }
     ],
     "prompt_number": 7
    },
    {
     "cell_type": "heading",
     "level": 3,
     "metadata": {},
     "source": [
      "Calculate Age and Oxygen for CDW and SAMW"
     ]
    },
    {
     "cell_type": "markdown",
     "metadata": {},
     "source": [
      "Define CDW and SAMW water masses following (approximately) same method used in Waugh et al., 2013: \n",
      "\n",
      "- SAMW: Water that lies on potential density surfaces between 26.6 - 27.0 and between latitudes 20S - 50S \n",
      "- CDW:  Water that lies on potential density surfaces between 27.2 - 27.7 and South of 50S. "
     ]
    },
    {
     "cell_type": "heading",
     "level": 6,
     "metadata": {},
     "source": [
      "SAMW - Mask grid points outside of density threshold"
     ]
    },
    {
     "cell_type": "code",
     "collapsed": false,
     "input": [
      "lat_constraint = iris.Constraint(latitude=lambda y: -50 < y <= -20)\n",
      "age_samw_region = age.extract(lat_constraint)\n",
      "aou_samw_region  = AOU.extract(lat_constraint)\n",
      "sigma0_samw_region = sigma0.extract(lat_constraint)\n",
      "\n",
      "age_samw = ma.masked_where(sigma0_samw_region.data >= 27.0, age_samw_region.data)\n",
      "age_samw = ma.masked_where(sigma0_samw_region.data <= 26.6, age_samw)\n",
      "\n",
      "aou_samw = ma.masked_where(sigma0_samw_region.data >= 27.0, aou_samw_region.data)\n",
      "aou_samw = ma.masked_where(sigma0_samw_region.data <= 26.6, aou_samw)"
     ],
     "language": "python",
     "metadata": {},
     "outputs": [],
     "prompt_number": 8
    },
    {
     "cell_type": "code",
     "collapsed": false,
     "input": [
      "slope, intercept, r_value, p_value, std_err = stats.mstats.linregress(age_samw.flatten(),aou_samw.flatten()*1e6)\n",
      "print slope\n",
      "print intercept\n",
      "print r_value**2"
     ],
     "language": "python",
     "metadata": {},
     "outputs": [
      {
       "output_type": "stream",
       "stream": "stdout",
       "text": [
        "0.37293923753\n",
        "-263.189077456\n",
        "0.795238886607\n"
       ]
      }
     ],
     "prompt_number": 9
    },
    {
     "cell_type": "code",
     "collapsed": false,
     "input": [
      "plt.scatter(age_samw, aou_samw*1e6)\n",
      "plt.ylabel('AOU [umol/kg]', fontsize = 14)\n",
      "plt.xlabel('Age [years]', fontsize = 14)\n",
      "plt.title('SAMW Age - AOU Relationship', fontsize = 14)\n",
      "x = np.arange(-100, 701, 1)\n",
      "plt.plot(x, (slope*x)+intercept, color = 'k', lw = 2)\n",
      "plt.xlim([-100, 700])"
     ],
     "language": "python",
     "metadata": {},
     "outputs": []
    },
    {
     "cell_type": "heading",
     "level": 6,
     "metadata": {},
     "source": [
      "CDW - Mask points outside of density threshold and north of 50N"
     ]
    },
    {
     "cell_type": "code",
     "collapsed": false,
     "input": [
      "lat_constraint = iris.Constraint(latitude=lambda y: y <= -50)\n",
      "age_cdw_region = age.extract(lat_constraint)\n",
      "aou_cdw_region  = AOU.extract(lat_constraint)\n",
      "sigma0_cdw_region = sigma0.extract(lat_constraint)\n",
      "\n",
      "age_cdw = ma.masked_where(sigma0_cdw_region.data >= 27.7, age_cdw_region.data)\n",
      "age_cdw = ma.masked_where(sigma0_cdw_region.data <= 27.2, age_cdw)\n",
      "\n",
      "aou_cdw = ma.masked_where(sigma0_cdw_region.data >= 27.7, aou_cdw_region.data)\n",
      "aou_cdw = ma.masked_where(sigma0_cdw_region.data <= 27.2, aou_cdw)"
     ],
     "language": "python",
     "metadata": {},
     "outputs": []
    },
    {
     "cell_type": "code",
     "collapsed": false,
     "input": [
      "slope, intercept, r_value, p_value, std_err = stats.mstats.linregress(age_cdw.flatten(),aou_cdw.flatten()*1e5)\n",
      "print slope\n",
      "print intercept\n",
      "print r_value**2"
     ],
     "language": "python",
     "metadata": {},
     "outputs": []
    },
    {
     "cell_type": "code",
     "collapsed": false,
     "input": [
      "plt.scatter(age_cdw, aou_cdw*1e5)\n",
      "plt.ylabel('AOU [umol/kg]', fontsize = 14)\n",
      "plt.xlabel('Age [years]', fontsize = 14)\n",
      "plt.title('CDW Age - AOU Relationship', fontsize = 14)\n",
      "x = np.arange(-100, 801, 1)\n",
      "plt.plot(x, (slope*x)+intercept, color = 'k', lw = 2)\n",
      "plt.xlim([-100, 800])"
     ],
     "language": "python",
     "metadata": {},
     "outputs": []
    },
    {
     "cell_type": "heading",
     "level": 3,
     "metadata": {},
     "source": [
      "Delta Age vs Delta AOU"
     ]
    },
    {
     "cell_type": "code",
     "collapsed": false,
     "input": [
      "t1 = 50\n",
      "t = np.arange(t1, 500, 10)"
     ],
     "language": "python",
     "metadata": {},
     "outputs": []
    },
    {
     "cell_type": "code",
     "collapsed": false,
     "input": [],
     "language": "python",
     "metadata": {},
     "outputs": []
    }
   ],
   "metadata": {}
  }
 ]
}