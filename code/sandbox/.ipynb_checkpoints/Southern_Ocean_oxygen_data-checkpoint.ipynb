{
 "metadata": {
  "name": "",
  "signature": "sha256:8addf02a3c433957ed02204fb21d40a8a9dfecde85b64218d7c2e28bae7b8407"
 },
 "nbformat": 3,
 "nbformat_minor": 0,
 "worksheets": [
  {
   "cells": [
    {
     "cell_type": "markdown",
     "metadata": {},
     "source": [
      "Notebook to plot decadal trends in Southern Ocean oxygen data. Data downloaded from https://cchdo.ucsd.edu on April 10 and 12, 2017. "
     ]
    },
    {
     "cell_type": "heading",
     "level": 3,
     "metadata": {},
     "source": [
      "Load Python Packages"
     ]
    },
    {
     "cell_type": "code",
     "collapsed": false,
     "input": [
      "import numpy as np\n",
      "import pandas as pd\n",
      "import sys\n",
      "import gsw\n",
      "import iris.quickplot as qplt\n",
      "import matplotlib.pyplot as plt\n",
      "from scipy.interpolate import griddata\n",
      "sys.path.append('/RESEARCH/paper_ocean_heat_carbon/code/python')\n",
      "import colormaps as cmaps\n",
      "import numpy.ma as ma"
     ],
     "language": "python",
     "metadata": {},
     "outputs": [],
     "prompt_number": 1
    },
    {
     "cell_type": "code",
     "collapsed": false,
     "input": [
      "import sys\n",
      "sys.path.append('/RESEARCH/paper_ocean_heat_carbon/code/python')\n",
      "import colormaps as cmaps"
     ],
     "language": "python",
     "metadata": {},
     "outputs": [],
     "prompt_number": 2
    },
    {
     "cell_type": "heading",
     "level": 3,
     "metadata": {},
     "source": [
      "Define Functions:"
     ]
    },
    {
     "cell_type": "code",
     "collapsed": false,
     "input": [
      "def load_data(fname, path, header_no, variables, new_names, lon_lims):\n",
      "    # Load Data\n",
      "    data = pd.read_csv(path+fname, header = header_no, na_values='-999.000')\n",
      "    \n",
      "    # Isolate Desired Variables\n",
      "    var = data[variables].copy()\n",
      "    \n",
      "    # Rename variables if desired\n",
      "    var.columns = new_names\n",
      "    \n",
      "    # Drop data that is flagged\n",
      "    var = var[var.oxygen_flag!=5]\n",
      "    var = var[var.oxygen_flag!=9]\n",
      "    \n",
      "    # Drop row with units\n",
      "    var = var.drop(data.index[[0]])\n",
      "\n",
      "\n",
      "    var = var[var.longitude<=lon_lims[0]]\n",
      "    var = var[var.longitude>=lon_lims[1]] \n",
      "        \n",
      "    return var"
     ],
     "language": "python",
     "metadata": {},
     "outputs": [],
     "prompt_number": 3
    },
    {
     "cell_type": "code",
     "collapsed": false,
     "input": [
      "def retrieve_old_grid(frame):\n",
      "    depi = frame.press.values\n",
      "    lati = frame.latitude.values\n",
      "    old_grid = (lati.flatten(), depi.flatten())\n",
      "    \n",
      "    return old_grid"
     ],
     "language": "python",
     "metadata": {},
     "outputs": [],
     "prompt_number": 4
    },
    {
     "cell_type": "code",
     "collapsed": false,
     "input": [
      "def regrid(frame, old_grid, new_grid):\n",
      "    o2_grid   = griddata(old_grid, frame.oxygen.values.flatten(), new_grid, \n",
      "                          method='linear')\n",
      "    \n",
      "    temp_grid   = griddata(old_grid, frame.temp.values.flatten(), new_grid, \n",
      "                           method='linear')\n",
      "    \n",
      "    salt_grid   = griddata(old_grid, frame.salt.values.flatten(), new_grid, \n",
      "                           method='linear')\n",
      "    return o2_grid, temp_grid, salt_grid"
     ],
     "language": "python",
     "metadata": {},
     "outputs": [],
     "prompt_number": 5
    },
    {
     "cell_type": "heading",
     "level": 3,
     "metadata": {},
     "source": [
      "Load Data:"
     ]
    },
    {
     "cell_type": "heading",
     "level": 6,
     "metadata": {},
     "source": [
      "1990s Data"
     ]
    },
    {
     "cell_type": "code",
     "collapsed": false,
     "input": [
      "# 1991\n",
      "o2_data_P16_1991 = load_data('5_p16s_hy1.csv', \n",
      "                             '/RESEARCH/chapter3/data/GO_SHIP/P16/31WTTUNES_2/', \n",
      "                             5, \n",
      "                             ['DATE', 'LATITUDE', 'LONGITUDE', 'CTDPRS', 'OXYGEN', 'OXYGEN_FLAG_W', 'CTDTMP', 'CTDSAL'], \n",
      "                             new_names=['date', 'latitude', 'longitude', 'press', 'oxygen', 'oxygen_flag', 'temp', 'salt'], \n",
      "                             lon_lims=[-148, -156])\n",
      "\n",
      "#1992\n",
      "o2_data_P16_1992 = load_data('8_p16a_hy1.csv', \n",
      "                             '/RESEARCH/chapter3/data/GO_SHIP/P16/316N138_9/', \n",
      "                             5, \n",
      "                             ['DATE', 'LATITUDE', 'LONGITUDE', 'CTDPRS', 'OXYGEN', 'OXYGEN_FLAG_W', 'CTDTMP', 'CTDSAL'], \n",
      "                             new_names=['date', 'latitude', 'longitude', 'press', 'oxygen', 'oxygen_flag', 'temp', 'salt'], \n",
      "                             lon_lims=[-148, -156])\n",
      "\n",
      "# Append\n",
      "frames = [o2_data_P16_1991, o2_data_P16_1992]\n",
      "o2_data_P16_1990s = pd.concat(frames)"
     ],
     "language": "python",
     "metadata": {},
     "outputs": [],
     "prompt_number": 6
    },
    {
     "cell_type": "heading",
     "level": 6,
     "metadata": {},
     "source": [
      "2005 Data"
     ]
    },
    {
     "cell_type": "code",
     "collapsed": false,
     "input": [
      "o2_data_P16_2005 = load_data('6_33RR20050106_hy1.csv', \n",
      "                             '/RESEARCH/chapter3/data/GO_SHIP/P16/33RR200501/', \n",
      "                             78, \n",
      "                             ['DATE', 'LATITUDE', 'LONGITUDE', 'CTDPRS', 'OXYGEN', 'OXYGEN_FLAG_W', 'CTDTMP', 'CTDSAL'], \n",
      "                             new_names=['date', 'latitude', 'longitude', 'press', 'oxygen', 'oxygen_flag', 'temp', 'salt'], \n",
      "                             lon_lims=[-148, -156])"
     ],
     "language": "python",
     "metadata": {},
     "outputs": [],
     "prompt_number": 7
    },
    {
     "cell_type": "heading",
     "level": 6,
     "metadata": {},
     "source": [
      "2015 Data"
     ]
    },
    {
     "cell_type": "code",
     "collapsed": false,
     "input": [
      "o2_data_P16_2015 = load_data('6_320620140320_hy1.csv', \n",
      "                             '/RESEARCH/chapter3/data/GO_SHIP/P16/320620140320/', \n",
      "                             112, \n",
      "                             ['DATE', 'LATITUDE', 'LONGITUDE', 'CTDPRS', 'OXYGEN', 'OXYGEN_FLAG_W', 'CTDTMP', 'CTDSAL'], \n",
      "                             new_names=['date', 'latitude', 'longitude', 'press', 'oxygen', 'oxygen_flag', 'temp', 'salt'], \n",
      "                             lon_lims=[-148, -156])"
     ],
     "language": "python",
     "metadata": {},
     "outputs": [],
     "prompt_number": 8
    },
    {
     "cell_type": "heading",
     "level": 3,
     "metadata": {},
     "source": [
      "Regrid:"
     ]
    },
    {
     "cell_type": "code",
     "collapsed": false,
     "input": [
      "# New Grid \n",
      "lat = np.arange(-72.,-16.,1)\n",
      "depth = np.arange(0,5000,250)   \n",
      "XI, YI = np.meshgrid(lat,depth)\n",
      "new_grid = (XI, YI)"
     ],
     "language": "python",
     "metadata": {},
     "outputs": [],
     "prompt_number": 9
    },
    {
     "cell_type": "code",
     "collapsed": false,
     "input": [
      "# 1990s\n",
      "old_grid = retrieve_old_grid(o2_data_P16_1990s)\n",
      "o2_1990, temp_1990, salt_1990 = regrid(o2_data_P16_1990s, old_grid, new_grid)\n",
      "\n",
      "# 2005:\n",
      "old_grid = retrieve_old_grid(o2_data_P16_2005)\n",
      "o2_2005, temp_2005, salt_2005 = regrid(o2_data_P16_2005, old_grid, new_grid)\n",
      "\n",
      "# 2015:\n",
      "old_grid = retrieve_old_grid(o2_data_P16_2015)\n",
      "o2_2015, temp_2015, salt_2015 = regrid(o2_data_P16_2015, old_grid, new_grid)"
     ],
     "language": "python",
     "metadata": {},
     "outputs": [],
     "prompt_number": 10
    },
    {
     "cell_type": "code",
     "collapsed": false,
     "input": [],
     "language": "python",
     "metadata": {},
     "outputs": []
    }
   ],
   "metadata": {}
  }
 ]
}