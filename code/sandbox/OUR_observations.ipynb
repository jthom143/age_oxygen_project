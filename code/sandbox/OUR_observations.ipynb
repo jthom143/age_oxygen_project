{
 "metadata": {
  "name": "",
  "signature": "sha256:876aca9e36400a23eb72bf82b7caca69baa913fb8a5c08ad42c865217e36e1fc"
 },
 "nbformat": 3,
 "nbformat_minor": 0,
 "worksheets": [
  {
   "cells": [
    {
     "cell_type": "heading",
     "level": 2,
     "metadata": {},
     "source": [
      "Load Packages"
     ]
    },
    {
     "cell_type": "code",
     "collapsed": false,
     "input": [
      "import numpy as np\n",
      "import pandas as pd\n",
      "import sys\n",
      "import gsw\n",
      "import iris.quickplot as qplt\n",
      "import matplotlib.pyplot as plt\n",
      "from scipy.interpolate import griddata\n",
      "sys.path.append('/RESEARCH/paper_ocean_heat_carbon/code/python')\n",
      "import colormaps as cmaps\n",
      "import numpy.ma as ma"
     ],
     "language": "python",
     "metadata": {},
     "outputs": [],
     "prompt_number": 1
    },
    {
     "cell_type": "code",
     "collapsed": false,
     "input": [
      "import sys\n",
      "sys.path.append('/RESEARCH/chapter3/functions')\n",
      "import colormaps as cmaps\n",
      "from o2sat import o2sat"
     ],
     "language": "python",
     "metadata": {},
     "outputs": [],
     "prompt_number": 2
    },
    {
     "cell_type": "code",
     "collapsed": false,
     "input": [
      "%matplotlib inline"
     ],
     "language": "python",
     "metadata": {},
     "outputs": [],
     "prompt_number": 3
    },
    {
     "cell_type": "heading",
     "level": 3,
     "metadata": {},
     "source": [
      "Define Functions"
     ]
    },
    {
     "cell_type": "code",
     "collapsed": false,
     "input": [
      "def load_data(fname, path, header_no, variables, new_names, lon_lims):\n",
      "    # Load Data\n",
      "    data = pd.read_csv(path+fname, header = header_no, na_values='-999.000')\n",
      "    \n",
      "    # Isolate Desired Variables\n",
      "    var = data[variables].copy()\n",
      "    \n",
      "    # Rename variables if desired\n",
      "    var.columns = new_names\n",
      "    \n",
      "    # Drop data that is flagged\n",
      "    var = var[var.oxygen_flag!=5]\n",
      "    var = var[var.oxygen_flag!=9]\n",
      "    \n",
      "    # Drop row with units\n",
      "    var = var.drop(data.index[[0]])\n",
      "\n",
      "\n",
      "    var = var[var.longitude<=lon_lims[0]]\n",
      "    var = var[var.longitude>=lon_lims[1]] \n",
      "        \n",
      "    return var"
     ],
     "language": "python",
     "metadata": {},
     "outputs": [],
     "prompt_number": 5
    },
    {
     "cell_type": "code",
     "collapsed": false,
     "input": [
      "def retrieve_old_grid(frame):\n",
      "    depi = frame.press.values\n",
      "    lati = frame.latitude.values\n",
      "    old_grid = (lati.flatten(), depi.flatten())\n",
      "    \n",
      "    return old_grid"
     ],
     "language": "python",
     "metadata": {},
     "outputs": [],
     "prompt_number": 6
    },
    {
     "cell_type": "code",
     "collapsed": false,
     "input": [
      "def regrid(frame, old_grid, new_grid):\n",
      "    o2_grid   = griddata(old_grid, frame.oxygen.values.flatten(), new_grid, \n",
      "                          method='linear')\n",
      "    \n",
      "    temp_grid   = griddata(old_grid, frame.temp.values.flatten(), new_grid, \n",
      "                           method='linear')\n",
      "    \n",
      "    salt_grid   = griddata(old_grid, frame.salt.values.flatten(), new_grid, \n",
      "                           method='linear')\n",
      "    return o2_grid, temp_grid, salt_grid"
     ],
     "language": "python",
     "metadata": {},
     "outputs": [],
     "prompt_number": 7
    },
    {
     "cell_type": "heading",
     "level": 3,
     "metadata": {},
     "source": [
      "Load Data:"
     ]
    },
    {
     "cell_type": "code",
     "collapsed": false,
     "input": [
      "data_dict = {'P16_1991': {'fname': '5_p16s_hy1.csv', 'path': '/RESEARCH/chapter3/data/GO_SHIP/P16/31WTTUNES_2/', 'head_no': 5},\n",
      "             'P16_1992': {'fname': '8_p16a_hy1.csv', 'path': '/RESEARCH/chapter3/data/GO_SHIP/P16/316N138_9/'  , 'head_no': 5},\n",
      "             'P16_2005': {'fname': '6_33RR20050106_hy1.csv', \n",
      "                          'path': '/RESEARCH/chapter3/data/GO_SHIP/P16/33RR200501/', 'head_no':78},\n",
      "             'P16_2015': {'fname': '6_320620140320_hy1.csv', \n",
      "                          'path': '/RESEARCH/chapter3/data/GO_SHIP/P16/320620140320/', 'head_no':112},\n",
      "             'P18_1994': {'fname': '0_31DSCG94_1_hy1.csv',\n",
      "                          'path': '/RESEARCH/chapter3/data/GO_SHIP/P18/31DSCG94_1/', 'head_no':7},\n",
      "             'P18_2007': {'fname': '6_33RO20071215_hy1.csv',\n",
      "                          'path': '/RESEARCH/chapter3/data/GO_SHIP/P18/33RO20071215/', 'head_no':53},\n",
      "             'P18_2016': {'fname': '33RO20161119.exc.csv',\n",
      "                          'path': '/RESEARCH/chapter3/data/GO_SHIP/P18/33RO20161119/', 'head_no':66},\n",
      "             'A16_1989': {'fname': '1_a16s_hy1.csv', \n",
      "                          'path': '/RESEARCH/chapter3/data/GO_SHIP/A16/318MSAVE5/', 'head_no':10},\n",
      "             'A16_2005': {'fname': '0_a16s_2005a_hy1.csv',\n",
      "                          'path': '/RESEARCH/chapter3/data/GO_SHIP/A16/33RO200501/', 'head_no':39},\n",
      "             'A16_2014': {'fname': '3_33RO20131223_hy1.csv',\n",
      "                          'path': '/RESEARCH/chapter3/data/GO_SHIP/A16/33RO20131223/', 'head_no':63},\n",
      "             'I08_1994': {'fname': '7_i08s_hy1.csv', \n",
      "                          'path': '/RESEARCH/chapter3/data/GO_SHIP/I08/316N145_5/', 'head_no':12},\n",
      "             'I08_2005': {'fname': '6_33RR20070204_hy1.csv',\n",
      "                          'path': '/RESEARCH/chapter3/data/GO_SHIP/I08/33RR20070204/', 'head_no': 36},\n",
      "             'I08_2016': {'fname': '4_33RR20160208_hy1.csv', \n",
      "                          'path': '/RESEARCH/chapter3/data/GO_SHIP/I08/33RR20160208/', 'head_no': 66}\n",
      "             }"
     ],
     "language": "python",
     "metadata": {},
     "outputs": [],
     "prompt_number": 8
    },
    {
     "cell_type": "code",
     "collapsed": false,
     "input": [
      "data = {}\n",
      "for key, info in data_dict.iteritems():  \n",
      "    if key == 'P16_1991' or key =='P16_1992' or key =='P16_2005' or key =='P16_2015':\n",
      "        YY = [-148, -156]\n",
      "    elif key == 'P18_1994' or key =='P18_2007' or key=='P18_2016':\n",
      "        YY = [-100, -105]\n",
      "    elif key == 'A16_1989' or key =='A16_2005' or key=='A16_2014':\n",
      "        YY = [-22, -37]\n",
      "    elif key == 'I08_1994' or key =='I08_2005' or key=='I08_2016':\n",
      "        YY = [100, 80]\n",
      "    \n",
      "    data[key] = load_data(info['fname'], info['path'], info['head_no'],\n",
      "                          ['DATE', 'LATITUDE', 'LONGITUDE', 'CTDPRS', 'OXYGEN', 'OXYGEN_FLAG_W', 'CTDTMP', 'CTDSAL'], \n",
      "                          new_names=['date', 'latitude', 'longitude', 'press', 'oxygen', 'oxygen_flag', 'temp', 'salt'], \n",
      "                          lon_lims=YY)\n",
      "\n",
      "# Join P16 1990s data    \n",
      "data.update({'P16_1990': pd.concat([data['P16_1991'], data['P16_1992']])})\n",
      "del data['P16_1991']\n",
      "del data['P16_1992']"
     ],
     "language": "python",
     "metadata": {},
     "outputs": [],
     "prompt_number": 9
    },
    {
     "cell_type": "code",
     "collapsed": false,
     "input": [
      "### Water Mass Analysis: \n",
      "samw = {}\n",
      "o2_samw_mean = {}\n",
      "aabw = {}\n",
      "o2_aabw_mean = {}\n",
      "aou_samw = {}\n",
      "aou_aabw = {}\n",
      "\n",
      "for key, frame in data.iteritems():  \n",
      "    frame['oxygen'] = frame['oxygen'].astype(dtype=float)\n",
      "    frame['temp'] = frame['temp'].astype(dtype=float)\n",
      "    frame['salt'] = frame['salt'].astype(dtype=float)\n",
      "\n",
      "    # Calculate Sigma\n",
      "    frame['sigma'] = gsw.sigma0(frame.salt, frame.temp)\n",
      "    \n",
      "    # Calculate AOU\n",
      "    frame['o2_sat'] = o2sat(frame.salt, frame.temp)\n",
      "    frame['aou'] = frame.o2_sat - frame.oxygen\n",
      "\n",
      "    \n",
      "    samw[key] = frame[(frame[\"sigma\"] >= 26.6) & \n",
      "                      (frame[\"sigma\"] <= 27.0) & \n",
      "                      (frame['latitude'] > -50) & \n",
      "                      (frame['latitude'] <= -20)]\n",
      "    o2_samw_mean[key] = samw[key]['oxygen'].mean()\n",
      "    aou_samw[key] = samw[key]['aou'].mean()\n",
      "\n",
      "    \n",
      "    aabw[key] = frame[(frame[\"sigma\"] >= 27.2) & \n",
      "                      (frame[\"sigma\"] <= 27.7) & \n",
      "                      (frame['latitude'] > -50)]\n",
      "    \n",
      "    o2_aabw_mean[key] = aabw[key]['oxygen'].mean()\n",
      "    aou_aabw[key] = aabw[key]['aou'].mean()"
     ],
     "language": "python",
     "metadata": {},
     "outputs": [],
     "prompt_number": 11
    },
    {
     "cell_type": "heading",
     "level": 3,
     "metadata": {},
     "source": [
      "Import Age Change From Darryn's Analysis"
     ]
    },
    {
     "cell_type": "markdown",
     "metadata": {},
     "source": [
      "Values from 'age_data.ipynb'"
     ]
    },
    {
     "cell_type": "code",
     "collapsed": false,
     "input": [
      "age_samw_1990 = {'P18': 44.75288344025612, 'I08': 21.120831299087275, 'A16': 19.909987696285906, 'P16': 48.963646075626215}\n",
      "age_samw_2000 = {'P18': 39.817068006800511, 'I08': 29.97945355485987, 'A16': 16.788672630904152, 'P16': 41.522226221286331}"
     ],
     "language": "python",
     "metadata": {},
     "outputs": [],
     "prompt_number": 12
    },
    {
     "cell_type": "heading",
     "level": 3,
     "metadata": {},
     "source": [
      "Calculate OUR"
     ]
    },
    {
     "cell_type": "code",
     "collapsed": false,
     "input": [
      "print aou_samw"
     ],
     "language": "python",
     "metadata": {},
     "outputs": [
      {
       "output_type": "stream",
       "stream": "stdout",
       "text": [
        "{'I08_2016': 53.461422606299159, 'I08_2005': 49.708416326709063, 'A16_2005': 58.867950604474089, 'P16_1990': 57.728453712165319, 'A16_2014': 63.318009976958521, 'P16_2015': 54.75535811671093, 'I08_1994': 37.521906469535267, 'P18_2007': 62.132710121447559, 'P18_1994': 59.855293531634359, 'P16_2005': 55.073845400023153, 'A16_1989': 47.994812232486709, 'P18_2016': 68.337835416200249}\n"
       ]
      }
     ],
     "prompt_number": 13
    },
    {
     "cell_type": "code",
     "collapsed": false,
     "input": [
      "our_1990 = {'P18' : aou_samw['P18_1994']/age_samw_1990['P18'], \n",
      "            'P16' : aou_samw['P16_1990']/age_samw_1990['P16'],\n",
      "            'I08' : aou_samw['I08_1994']/age_samw_1990['I08'],\n",
      "            'A16' : aou_samw['A16_1989']/age_samw_1990['A16']}"
     ],
     "language": "python",
     "metadata": {},
     "outputs": [],
     "prompt_number": 20
    },
    {
     "cell_type": "code",
     "collapsed": false,
     "input": [
      "print our_1990"
     ],
     "language": "python",
     "metadata": {},
     "outputs": [
      {
       "output_type": "stream",
       "stream": "stdout",
       "text": [
        "{'P18': 1.337462280202337, 'I08': 1.7765354941856268, 'A16': 2.4105897484527259, 'P16': 1.1790064331198196}\n"
       ]
      }
     ],
     "prompt_number": 21
    },
    {
     "cell_type": "code",
     "collapsed": false,
     "input": [
      "our_2000 = {'P18' : aou_samw['P18_2007']/age_samw_2000['P18'], \n",
      "            'P16' : aou_samw['P16_2005']/age_samw_2000['P16'],\n",
      "            'I08' : aou_samw['I08_2005']/age_samw_2000['I08'],\n",
      "            'A16' : aou_samw['A16_2005']/age_samw_2000['A16']}"
     ],
     "language": "python",
     "metadata": {},
     "outputs": [],
     "prompt_number": 22
    },
    {
     "cell_type": "code",
     "collapsed": false,
     "input": [
      "print our_2000"
     ],
     "language": "python",
     "metadata": {},
     "outputs": [
      {
       "output_type": "stream",
       "stream": "stdout",
       "text": [
        "{'P18': 1.5604541778625105, 'I08': 1.6580828011340119, 'A16': 3.5064088685672203, 'P16': 1.3263702458176387}\n"
       ]
      }
     ],
     "prompt_number": 23
    },
    {
     "cell_type": "code",
     "collapsed": false,
     "input": [
      "OUR = {'P18' : (aou_samw['P18_2007']-aou_samw['P18_1994'])/(age_samw_2000['P18']-age_samw_1990['P18']),\n",
      "       'P16' : (aou_samw['P16_2005']-aou_samw['P16_1990'])/(age_samw_2000['P16']-age_samw_1990['P16']),\n",
      "       'I08' : (aou_samw['I08_2005']-aou_samw['I08_1994'])/(age_samw_2000['I08']-age_samw_1990['I08']),\n",
      "       'A16' : (aou_samw['A16_2005']-aou_samw['A16_1989'])/(age_samw_2000['A16']-age_samw_1990['A16'])\n",
      "       } "
     ],
     "language": "python",
     "metadata": {},
     "outputs": [],
     "prompt_number": 24
    },
    {
     "cell_type": "code",
     "collapsed": false,
     "input": [
      "print OUR"
     ],
     "language": "python",
     "metadata": {},
     "outputs": [
      {
       "output_type": "stream",
       "stream": "stdout",
       "text": [
        "{'P18': -0.46140635129437158, 'I08': 1.3756664981659683, 'A16': -3.4835119634606753, 'P16': 0.35673411312680892}\n"
       ]
      }
     ],
     "prompt_number": 25
    },
    {
     "cell_type": "code",
     "collapsed": false,
     "input": [],
     "language": "python",
     "metadata": {},
     "outputs": []
    }
   ],
   "metadata": {}
  }
 ]
}